{
 "cells": [
  {
   "cell_type": "markdown",
   "metadata": {
    "collapsed": false,
    "pycharm": {
     "name": "#%% md\n"
    }
   },
   "source": [
    "# Power user data"
   ]
  },
  {
   "cell_type": "markdown",
   "metadata": {},
   "source": [
    "Setup"
   ]
  },
  {
   "cell_type": "code",
   "execution_count": 1,
   "metadata": {},
   "outputs": [],
   "source": [
    "%load_ext autoreload\n",
    "%autoreload 2\n",
    "\n",
    "from hereutil import here, add_to_sys_path\n",
    "add_to_sys_path(here())\n",
    "\n",
    "from src.common_basis import *\n",
    "import pandas as pd\n"
   ]
  },
  {
   "cell_type": "code",
   "execution_count": 5,
   "metadata": {},
   "outputs": [
    {
     "data": {
      "text/plain": [
       "['dhh24/disc/parquet/aita_comments_sample_1_a.parquet',\n",
       " 'dhh24/disc/parquet/aita_submissions_a.parquet',\n",
       " 'dhh24/disc/parquet/aita_submissions_sample_1_a.parquet',\n",
       " 'dhh24/disc/parquet/best_of_reddit_comments_sample_1_a.parquet',\n",
       " 'dhh24/disc/parquet/best_of_reddit_submissions_a.parquet',\n",
       " 'dhh24/disc/parquet/best_of_reddit_submissions_sample_1_a.parquet',\n",
       " 'dhh24/disc/parquet/cmw_comments_a.parquet',\n",
       " 'dhh24/disc/parquet/cmw_comments_sample_1_a.parquet',\n",
       " 'dhh24/disc/parquet/cmw_delta_comments_a.parquet',\n",
       " 'dhh24/disc/parquet/cmw_submissions_a.parquet',\n",
       " 'dhh24/disc/parquet/cmw_submissions_sample_1_a.parquet',\n",
       " 'dhh24/disc/parquet/eli5_comments_a.parquet',\n",
       " 'dhh24/disc/parquet/eli5_comments_sample_1_a.parquet',\n",
       " 'dhh24/disc/parquet/eli5_submissions_a.parquet',\n",
       " 'dhh24/disc/parquet/eli5_submissions_sample_1_a.parquet',\n",
       " 'dhh24/disc/parquet/power_user_aita_comments.parquet',\n",
       " 'dhh24/disc/parquet/power_user_cmv_all_comments.parquet',\n",
       " 'dhh24/disc/parquet/power_user_cmv_delta_comments.parquet',\n",
       " 'dhh24/disc/parquet/power_user_eli5_comments.parquet',\n",
       " 'dhh24/disc/parquet/power_user_unpopularopinion_comments.parquet',\n",
       " 'dhh24/disc/parquet/random_sample_comments_a.parquet',\n",
       " 'dhh24/disc/parquet/random_sample_comments_sample_1_a.parquet',\n",
       " 'dhh24/disc/parquet/random_sample_submissions_a.parquet',\n",
       " 'dhh24/disc/parquet/random_sample_submissions_sample_1_a.parquet',\n",
       " 'dhh24/disc/parquet/stop_arguing_comments_a.parquet',\n",
       " 'dhh24/disc/parquet/stop_arguing_comments_sample_1_a.parquet',\n",
       " 'dhh24/disc/parquet/stop_arguing_submissions_a.parquet',\n",
       " 'dhh24/disc/parquet/stop_arguing_submissions_sample_1_a.parquet',\n",
       " 'dhh24/disc/parquet/t_aita_comments_a.parquet',\n",
       " 'dhh24/disc/parquet/t_best_of_reddit_comments_a.parquet',\n",
       " 'dhh24/disc/parquet/t_stop_arguing_comments_a.parquet',\n",
       " 'dhh24/disc/parquet/unpopularopinion_comments_a.parquet',\n",
       " 'dhh24/disc/parquet/unpopularopinion_comments_sample_1_a.parquet',\n",
       " 'dhh24/disc/parquet/unpopularopinion_submissions_a.parquet',\n",
       " 'dhh24/disc/parquet/unpopularopinion_submissions_sample_1_a.parquet']"
      ]
     },
     "execution_count": 5,
     "metadata": {},
     "output_type": "execute_result"
    }
   ],
   "source": [
    "get_s3fs().ls('/dhh24/disc/parquet')\n"
   ]
  },
  {
   "cell_type": "markdown",
   "metadata": {},
   "source": [
    "Get delta awarding comments:"
   ]
  },
  {
   "cell_type": "code",
   "execution_count": 2,
   "metadata": {},
   "outputs": [],
   "source": [
    "delta_awarding_comments = pd.read_parquet( 'dhh24/disc/parquet/cmw_delta_comments_a.parquet', filesystem=get_s3fs(),engine=\"pyarrow\")\n"
   ]
  },
  {
   "cell_type": "markdown",
   "metadata": {},
   "source": [
    "Get all cmv comments:"
   ]
  },
  {
   "cell_type": "code",
   "execution_count": 3,
   "metadata": {},
   "outputs": [],
   "source": [
    "cmv = pd.read_parquet('dhh24/disc/parquet/cmw_comments_a.parquet', filesystem=get_s3fs(),engine=\"pyarrow\")\n"
   ]
  },
  {
   "cell_type": "markdown",
   "metadata": {},
   "source": [
    "Find delta-awarded comments and find the users who have earned deltas. Find power users:"
   ]
  },
  {
   "cell_type": "code",
   "execution_count": 4,
   "metadata": {},
   "outputs": [
    {
     "data": {
      "text/plain": [
       "author\n",
       "10ebbor10               184\n",
       "47ca05e6209a317a8fb3    159\n",
       "A_Soporific             162\n",
       "Amablue                 184\n",
       "Ansuz07                 630\n",
       "                       ... \n",
       "scottevil110            177\n",
       "tbdabbholm              186\n",
       "themcos                 349\n",
       "thethoughtexperiment    271\n",
       "yyzjertl                483\n",
       "Name: count, Length: 67, dtype: int64"
      ]
     },
     "execution_count": 4,
     "metadata": {},
     "output_type": "execute_result"
    }
   ],
   "source": [
    "delta_awarded_comments = cmv[cmv['id'].isin(delta_awarding_comments['parent_comment_id'])]\n",
    "# using author because ther eare so many missing author_ids\n",
    "# if 'author' (username) belongs to more than one user_id this will make problems\n",
    "power_users = delta_awarded_comments.groupby('author')['author'].value_counts() \n",
    "power_users = power_users[power_users > 150]\n",
    "power_users = power_users[power_users.index != \"[deleted]\"]\n",
    "power_users # no deleted users\n"
   ]
  },
  {
   "cell_type": "markdown",
   "metadata": {},
   "source": [
    "Find all delta-awarded comments made by power users:"
   ]
  },
  {
   "cell_type": "code",
   "execution_count": 5,
   "metadata": {},
   "outputs": [
    {
     "data": {
      "text/html": [
       "<div>\n",
       "<style scoped>\n",
       "    .dataframe tbody tr th:only-of-type {\n",
       "        vertical-align: middle;\n",
       "    }\n",
       "\n",
       "    .dataframe tbody tr th {\n",
       "        vertical-align: top;\n",
       "    }\n",
       "\n",
       "    .dataframe thead th {\n",
       "        text-align: right;\n",
       "    }\n",
       "</style>\n",
       "<table border=\"1\" class=\"dataframe\">\n",
       "  <thead>\n",
       "    <tr style=\"text-align: right;\">\n",
       "      <th></th>\n",
       "      <th>subreddit_id</th>\n",
       "      <th>subreddit</th>\n",
       "      <th>id</th>\n",
       "      <th>permalink</th>\n",
       "      <th>link_id</th>\n",
       "      <th>parent_comment_id</th>\n",
       "      <th>created_utc</th>\n",
       "      <th>author_id</th>\n",
       "      <th>author</th>\n",
       "      <th>body</th>\n",
       "      <th>score</th>\n",
       "      <th>controversiality</th>\n",
       "    </tr>\n",
       "  </thead>\n",
       "  <tbody>\n",
       "    <tr>\n",
       "      <th>2</th>\n",
       "      <td>4855832</td>\n",
       "      <td>changemyview</td>\n",
       "      <td>32388170293</td>\n",
       "      <td>https://www.reddit.com/r/changemyview/comments...</td>\n",
       "      <td>759936720</td>\n",
       "      <td>3.238813e+10</td>\n",
       "      <td>2019-07-31 21:03:13</td>\n",
       "      <td>6.164020e+06</td>\n",
       "      <td>ralph-j</td>\n",
       "      <td>&amp;gt; I feel like that shouldn't be a thing peo...</td>\n",
       "      <td>16</td>\n",
       "      <td>False</td>\n",
       "    </tr>\n",
       "    <tr>\n",
       "      <th>67</th>\n",
       "      <td>4855832</td>\n",
       "      <td>changemyview</td>\n",
       "      <td>32388363965</td>\n",
       "      <td>https://www.reddit.com/r/changemyview/comments...</td>\n",
       "      <td>759968996</td>\n",
       "      <td>NaN</td>\n",
       "      <td>2019-07-31 21:36:41</td>\n",
       "      <td>5.410853e+06</td>\n",
       "      <td>AnythingApplied</td>\n",
       "      <td>Even if we stopped producing carbon dioxide ri...</td>\n",
       "      <td>13</td>\n",
       "      <td>False</td>\n",
       "    </tr>\n",
       "    <tr>\n",
       "      <th>251</th>\n",
       "      <td>4855832</td>\n",
       "      <td>changemyview</td>\n",
       "      <td>32388834566</td>\n",
       "      <td>https://www.reddit.com/r/changemyview/comments...</td>\n",
       "      <td>760019455</td>\n",
       "      <td>NaN</td>\n",
       "      <td>2019-07-31 23:01:51</td>\n",
       "      <td>9.836526e+06</td>\n",
       "      <td>cdb03b</td>\n",
       "      <td>It was war. Total war at that which is a form ...</td>\n",
       "      <td>6</td>\n",
       "      <td>False</td>\n",
       "    </tr>\n",
       "    <tr>\n",
       "      <th>498</th>\n",
       "      <td>4855832</td>\n",
       "      <td>changemyview</td>\n",
       "      <td>32389404872</td>\n",
       "      <td>https://www.reddit.com/r/changemyview/comments...</td>\n",
       "      <td>760044185</td>\n",
       "      <td>NaN</td>\n",
       "      <td>2019-08-01 00:58:17</td>\n",
       "      <td>5.410853e+06</td>\n",
       "      <td>AnythingApplied</td>\n",
       "      <td>Most people aren't generally open to changing ...</td>\n",
       "      <td>49</td>\n",
       "      <td>False</td>\n",
       "    </tr>\n",
       "    <tr>\n",
       "      <th>889</th>\n",
       "      <td>4855832</td>\n",
       "      <td>changemyview</td>\n",
       "      <td>32390792865</td>\n",
       "      <td>https://www.reddit.com/r/changemyview/comments...</td>\n",
       "      <td>760170300</td>\n",
       "      <td>NaN</td>\n",
       "      <td>2019-08-01 06:20:01</td>\n",
       "      <td>1.610848e+07</td>\n",
       "      <td>MercurianAspirations</td>\n",
       "      <td>I think it's disingenuous to say that politici...</td>\n",
       "      <td>3</td>\n",
       "      <td>False</td>\n",
       "    </tr>\n",
       "    <tr>\n",
       "      <th>...</th>\n",
       "      <td>...</td>\n",
       "      <td>...</td>\n",
       "      <td>...</td>\n",
       "      <td>...</td>\n",
       "      <td>...</td>\n",
       "      <td>...</td>\n",
       "      <td>...</td>\n",
       "      <td>...</td>\n",
       "      <td>...</td>\n",
       "      <td>...</td>\n",
       "      <td>...</td>\n",
       "      <td>...</td>\n",
       "    </tr>\n",
       "    <tr>\n",
       "      <th>13373087</th>\n",
       "      <td>4855832</td>\n",
       "      <td>changemyview</td>\n",
       "      <td>36125883385</td>\n",
       "      <td>https://www.reddit.com/r/changemyview/comments...</td>\n",
       "      <td>1283865812</td>\n",
       "      <td>3.612162e+10</td>\n",
       "      <td>2021-01-31 04:22:38</td>\n",
       "      <td>4.973701e+07</td>\n",
       "      <td>thethoughtexperiment</td>\n",
       "      <td>&amp;gt; Ok. I think I can understand that regardi...</td>\n",
       "      <td>3</td>\n",
       "      <td>False</td>\n",
       "    </tr>\n",
       "    <tr>\n",
       "      <th>13373915</th>\n",
       "      <td>4855832</td>\n",
       "      <td>changemyview</td>\n",
       "      <td>36127823765</td>\n",
       "      <td>https://www.reddit.com/r/changemyview/comments...</td>\n",
       "      <td>1285585171</td>\n",
       "      <td>NaN</td>\n",
       "      <td>2021-01-31 13:42:04</td>\n",
       "      <td>9.420607e+06</td>\n",
       "      <td>I_am_the_night</td>\n",
       "      <td>So I think in general you are right, a lot of ...</td>\n",
       "      <td>12</td>\n",
       "      <td>False</td>\n",
       "    </tr>\n",
       "    <tr>\n",
       "      <th>13374076</th>\n",
       "      <td>4855832</td>\n",
       "      <td>changemyview</td>\n",
       "      <td>36128115638</td>\n",
       "      <td>https://www.reddit.com/r/changemyview/comments...</td>\n",
       "      <td>1285587395</td>\n",
       "      <td>NaN</td>\n",
       "      <td>2021-01-31 14:33:34</td>\n",
       "      <td>5.410853e+06</td>\n",
       "      <td>AnythingApplied</td>\n",
       "      <td>This is the exact reason why you shouldn't get...</td>\n",
       "      <td>22</td>\n",
       "      <td>False</td>\n",
       "    </tr>\n",
       "    <tr>\n",
       "      <th>13374704</th>\n",
       "      <td>4855832</td>\n",
       "      <td>changemyview</td>\n",
       "      <td>36129124320</td>\n",
       "      <td>https://www.reddit.com/r/changemyview/comments...</td>\n",
       "      <td>1285732443</td>\n",
       "      <td>3.612911e+10</td>\n",
       "      <td>2021-01-31 17:18:51</td>\n",
       "      <td>1.744073e+11</td>\n",
       "      <td>miguelguajiro</td>\n",
       "      <td>But I’ve shown you the evidence and explained ...</td>\n",
       "      <td>3</td>\n",
       "      <td>False</td>\n",
       "    </tr>\n",
       "    <tr>\n",
       "      <th>13374933</th>\n",
       "      <td>4855832</td>\n",
       "      <td>changemyview</td>\n",
       "      <td>36129526834</td>\n",
       "      <td>https://www.reddit.com/r/changemyview/comments...</td>\n",
       "      <td>1285802602</td>\n",
       "      <td>NaN</td>\n",
       "      <td>2021-01-31 18:25:03</td>\n",
       "      <td>9.359849e+06</td>\n",
       "      <td>GnosticGnome</td>\n",
       "      <td>I think Originalism needs to be seriously modi...</td>\n",
       "      <td>4</td>\n",
       "      <td>False</td>\n",
       "    </tr>\n",
       "  </tbody>\n",
       "</table>\n",
       "<p>18018 rows × 12 columns</p>\n",
       "</div>"
      ],
      "text/plain": [
       "          subreddit_id     subreddit           id  \\\n",
       "2              4855832  changemyview  32388170293   \n",
       "67             4855832  changemyview  32388363965   \n",
       "251            4855832  changemyview  32388834566   \n",
       "498            4855832  changemyview  32389404872   \n",
       "889            4855832  changemyview  32390792865   \n",
       "...                ...           ...          ...   \n",
       "13373087       4855832  changemyview  36125883385   \n",
       "13373915       4855832  changemyview  36127823765   \n",
       "13374076       4855832  changemyview  36128115638   \n",
       "13374704       4855832  changemyview  36129124320   \n",
       "13374933       4855832  changemyview  36129526834   \n",
       "\n",
       "                                                  permalink     link_id  \\\n",
       "2         https://www.reddit.com/r/changemyview/comments...   759936720   \n",
       "67        https://www.reddit.com/r/changemyview/comments...   759968996   \n",
       "251       https://www.reddit.com/r/changemyview/comments...   760019455   \n",
       "498       https://www.reddit.com/r/changemyview/comments...   760044185   \n",
       "889       https://www.reddit.com/r/changemyview/comments...   760170300   \n",
       "...                                                     ...         ...   \n",
       "13373087  https://www.reddit.com/r/changemyview/comments...  1283865812   \n",
       "13373915  https://www.reddit.com/r/changemyview/comments...  1285585171   \n",
       "13374076  https://www.reddit.com/r/changemyview/comments...  1285587395   \n",
       "13374704  https://www.reddit.com/r/changemyview/comments...  1285732443   \n",
       "13374933  https://www.reddit.com/r/changemyview/comments...  1285802602   \n",
       "\n",
       "          parent_comment_id         created_utc     author_id  \\\n",
       "2              3.238813e+10 2019-07-31 21:03:13  6.164020e+06   \n",
       "67                      NaN 2019-07-31 21:36:41  5.410853e+06   \n",
       "251                     NaN 2019-07-31 23:01:51  9.836526e+06   \n",
       "498                     NaN 2019-08-01 00:58:17  5.410853e+06   \n",
       "889                     NaN 2019-08-01 06:20:01  1.610848e+07   \n",
       "...                     ...                 ...           ...   \n",
       "13373087       3.612162e+10 2021-01-31 04:22:38  4.973701e+07   \n",
       "13373915                NaN 2021-01-31 13:42:04  9.420607e+06   \n",
       "13374076                NaN 2021-01-31 14:33:34  5.410853e+06   \n",
       "13374704       3.612911e+10 2021-01-31 17:18:51  1.744073e+11   \n",
       "13374933                NaN 2021-01-31 18:25:03  9.359849e+06   \n",
       "\n",
       "                        author  \\\n",
       "2                      ralph-j   \n",
       "67             AnythingApplied   \n",
       "251                     cdb03b   \n",
       "498            AnythingApplied   \n",
       "889       MercurianAspirations   \n",
       "...                        ...   \n",
       "13373087  thethoughtexperiment   \n",
       "13373915        I_am_the_night   \n",
       "13374076       AnythingApplied   \n",
       "13374704         miguelguajiro   \n",
       "13374933          GnosticGnome   \n",
       "\n",
       "                                                       body  score  \\\n",
       "2         &gt; I feel like that shouldn't be a thing peo...     16   \n",
       "67        Even if we stopped producing carbon dioxide ri...     13   \n",
       "251       It was war. Total war at that which is a form ...      6   \n",
       "498       Most people aren't generally open to changing ...     49   \n",
       "889       I think it's disingenuous to say that politici...      3   \n",
       "...                                                     ...    ...   \n",
       "13373087  &gt; Ok. I think I can understand that regardi...      3   \n",
       "13373915  So I think in general you are right, a lot of ...     12   \n",
       "13374076  This is the exact reason why you shouldn't get...     22   \n",
       "13374704  But I’ve shown you the evidence and explained ...      3   \n",
       "13374933  I think Originalism needs to be seriously modi...      4   \n",
       "\n",
       "          controversiality  \n",
       "2                    False  \n",
       "67                   False  \n",
       "251                  False  \n",
       "498                  False  \n",
       "889                  False  \n",
       "...                    ...  \n",
       "13373087             False  \n",
       "13373915             False  \n",
       "13374076             False  \n",
       "13374704             False  \n",
       "13374933             False  \n",
       "\n",
       "[18018 rows x 12 columns]"
      ]
     },
     "execution_count": 5,
     "metadata": {},
     "output_type": "execute_result"
    }
   ],
   "source": [
    "power_user_data = delta_awarded_comments.loc[delta_awarded_comments['author'].isin(power_users.index)]\n",
    "power_user_data"
   ]
  },
  {
   "cell_type": "markdown",
   "metadata": {},
   "source": [
    "Save the data to a parquet:"
   ]
  },
  {
   "cell_type": "code",
   "execution_count": null,
   "metadata": {},
   "outputs": [],
   "source": [
    "power_user_data.to_parquet('dhh24/disc/parquet/power_user_cmv_delta_comments.parquet', filesystem=get_s3fs(),engine=\"pyarrow\")"
   ]
  },
  {
   "cell_type": "markdown",
   "metadata": {},
   "source": [
    "Get and save all comments made by power users:"
   ]
  },
  {
   "cell_type": "code",
   "execution_count": 2,
   "metadata": {},
   "outputs": [],
   "source": [
    "power_users = pd.read_parquet('dhh24/disc/parquet/power_user_cmv_delta_comments.parquet', filesystem=get_s3fs(),engine=\"pyarrow\", columns=['author'])\n",
    "power_users = power_users['author'].unique()\n",
    "fil = [('author', \"in\", power_users)]"
   ]
  },
  {
   "cell_type": "code",
   "execution_count": 4,
   "metadata": {},
   "outputs": [
    {
     "data": {
      "text/plain": [
       "(67,)"
      ]
     },
     "execution_count": 4,
     "metadata": {},
     "output_type": "execute_result"
    }
   ],
   "source": [
    "aita = pd.read_parquet('dhh24/disc/parquet/t_aita_comments_a.parquet', filesystem=get_s3fs(),engine=\"pyarrow\", filters=fil)\n",
    "aita.to_parquet('dhh24/disc/parquet/power_user_aita_comments.parquet', filesystem=get_s3fs(),engine=\"pyarrow\")"
   ]
  },
  {
   "cell_type": "code",
   "execution_count": 7,
   "metadata": {},
   "outputs": [],
   "source": [
    "cmv = pd.read_parquet('dhh24/disc/parquet/cmw_comments_a.parquet', filesystem=get_s3fs(),engine=\"pyarrow\", filters=fil)\n",
    "cmv.to_parquet('dhh24/disc/parquet/power_user_cmv_all_comments.parquet', filesystem=get_s3fs(),engine=\"pyarrow\")\n"
   ]
  },
  {
   "cell_type": "code",
   "execution_count": 3,
   "metadata": {},
   "outputs": [],
   "source": [
    "eli = pd.read_parquet('dhh24/disc/parquet/eli5_comments_a.parquet', filesystem=get_s3fs(),engine=\"pyarrow\", filters=fil)\n",
    "eli.to_parquet('dhh24/disc/parquet/power_user_eli5_comments.parquet', filesystem=get_s3fs(),engine=\"pyarrow\")"
   ]
  },
  {
   "cell_type": "code",
   "execution_count": 4,
   "metadata": {},
   "outputs": [],
   "source": [
    "uo = pd.read_parquet('dhh24/disc/parquet/unpopularopinion_comments_a.parquet', filesystem=get_s3fs(),engine=\"pyarrow\", filters=fil)\n",
    "uo.to_parquet('dhh24/disc/parquet/power_user_unpopularopinion_comments.parquet', filesystem=get_s3fs(),engine=\"pyarrow\")"
   ]
  },
  {
   "cell_type": "markdown",
   "metadata": {},
   "source": [
    "To tsv:"
   ]
  },
  {
   "cell_type": "code",
   "execution_count": null,
   "metadata": {},
   "outputs": [],
   "source": [
    "uo = pd.read_parquet('dhh24/disc/parquet/power_user_unpopularopinion_comments.parquet', filesystem=get_s3fs(),engine=\"pyarrow\", filters=fil)\n",
    "uo.to_csv('../../data/work/samples/power_user_unpopularopinion_comments.tsv', sep='\\t')\n"
   ]
  },
  {
   "cell_type": "code",
   "execution_count": null,
   "metadata": {},
   "outputs": [],
   "source": [
    "cmv = pd.read_parquet('dhh24/disc/parquet/power_user_cmv_all_comments.parquet', filesystem=get_s3fs(),engine=\"pyarrow\", filters=fil)\n",
    "cmv.to_csv('../../data/work/samples/power_user_cmv_comments.tsv', sep='\\t')"
   ]
  },
  {
   "cell_type": "code",
   "execution_count": null,
   "metadata": {},
   "outputs": [],
   "source": [
    "aita = pd.read_parquet('dhh24/disc/parquet/power_user_aita_comments.parquet', filesystem=get_s3fs(),engine=\"pyarrow\", filters=fil)\n",
    "aita.to_csv('../../data/work/samples/power_user_aita_comments.tsv', sep='\\t')"
   ]
  },
  {
   "cell_type": "code",
   "execution_count": null,
   "metadata": {},
   "outputs": [],
   "source": [
    "eli5 = pd.read_parquet('dhh24/disc/parquet/power_user_eli5_comments.parquet', filesystem=get_s3fs(),engine=\"pyarrow\", filters=fil)\n",
    "eli5.to_csv('../../data/work/samples/power_user_eli_comments.tsv', sep='\\t')"
   ]
  }
 ],
 "metadata": {
  "kernelspec": {
   "display_name": "Python 3",
   "language": "python",
   "name": "python3"
  },
  "language_info": {
   "codemirror_mode": {
    "name": "ipython",
    "version": 3
   },
   "file_extension": ".py",
   "mimetype": "text/x-python",
   "name": "python",
   "nbconvert_exporter": "python",
   "pygments_lexer": "ipython3",
   "version": "3.10.12"
  }
 },
 "nbformat": 4,
 "nbformat_minor": 0
}
